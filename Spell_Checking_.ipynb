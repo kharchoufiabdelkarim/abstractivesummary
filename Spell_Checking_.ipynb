{
  "nbformat": 4,
  "nbformat_minor": 0,
  "metadata": {
    "colab": {
      "name": "Spell_Checking_.ipynb",
      "provenance": []
    },
    "kernelspec": {
      "name": "python3",
      "display_name": "Python 3"
    }
  },
  "cells": [
    {
      "cell_type": "markdown",
      "metadata": {
        "id": "2C9CSSfQItMC"
      },
      "source": [
        "# pyspellchecker"
      ]
    },
    {
      "cell_type": "code",
      "source": [
        ""
      ],
      "metadata": {
        "id": "iUWAAwYtLzxf"
      },
      "execution_count": null,
      "outputs": []
    },
    {
      "cell_type": "code",
      "execution_count": null,
      "metadata": {
        "id": "xU88kbKYfxOk"
      },
      "outputs": [],
      "source": [
        "import pandas as pd\n",
        "d = pd.read_csv('/content/newpara.csv')\n"
      ]
    },
    {
      "cell_type": "code",
      "source": [
        "df['document'][1]"
      ],
      "metadata": {
        "id": "mRWthfvUPYks",
        "outputId": "0905204f-5862-4c01-c031-2d77f057a36b",
        "colab": {
          "base_uri": "https://localhost:8080/",
          "height": 104
        }
      },
      "execution_count": null,
      "outputs": [
        {
          "output_type": "execute_result",
          "data": {
            "text/plain": [
              "'who makes bromocriptine i am wondering what company makes the drug bromocriptine i need it for a mass i have on my pituitary gland and the cost just keeps raising i cannot ever buy a full prescription because of the price and i was told if i get a hold of the maker of the drug sometimes they offer coupons or something to help me afford the medicine if i buy pills in which i have to take times a day it costs me and that is how i have to buy them thanks   Who makes bromocriptine  What is the name of the drug that i need for a mass on my pituitary gland  Why can t i buy a full prescription because of the price    I need the drug bromocriptine for a mass on my pituitary but I can t afford a full prescription because of the price so I m wondering what company makes it  '"
            ],
            "application/vnd.google.colaboratory.intrinsic+json": {
              "type": "string"
            }
          },
          "metadata": {},
          "execution_count": 30
        }
      ]
    },
    {
      "cell_type": "code",
      "metadata": {
        "id": "V8xfv4wbIPjg",
        "colab": {
          "base_uri": "https://localhost:8080/"
        },
        "outputId": "d34cc034-3233-476f-d561-3751e4ea2c15"
      },
      "source": [
        "!pip install pyspellchecker"
      ],
      "execution_count": null,
      "outputs": [
        {
          "output_type": "stream",
          "name": "stdout",
          "text": [
            "Looking in indexes: https://pypi.org/simple, https://us-python.pkg.dev/colab-wheels/public/simple/\n",
            "Collecting pyspellchecker\n",
            "  Downloading pyspellchecker-0.6.3-py3-none-any.whl (2.7 MB)\n",
            "\u001b[K     |████████████████████████████████| 2.7 MB 5.0 MB/s \n",
            "\u001b[?25hInstalling collected packages: pyspellchecker\n",
            "Successfully installed pyspellchecker-0.6.3\n"
          ]
        }
      ]
    },
    {
      "cell_type": "code",
      "metadata": {
        "id": "RdxFYEC1Giee",
        "colab": {
          "base_uri": "https://localhost:8080/"
        },
        "outputId": "68542553-6c48-4bb8-adf3-5e7818a8540b"
      },
      "source": [
        "from spellchecker import SpellChecker\n",
        "for i in range(799): \n",
        " text = d['new'][i]\n",
        " spell = SpellChecker()\n",
        " d['new'][i]=' '.join([spell.correction(word) for word in text.split()])\n"
      ],
      "execution_count": null,
      "outputs": [
        {
          "output_type": "stream",
          "name": "stderr",
          "text": [
            "/usr/local/lib/python3.7/dist-packages/ipykernel_launcher.py:5: SettingWithCopyWarning: \n",
            "A value is trying to be set on a copy of a slice from a DataFrame\n",
            "\n",
            "See the caveats in the documentation: https://pandas.pydata.org/pandas-docs/stable/user_guide/indexing.html#returning-a-view-versus-a-copy\n",
            "  \"\"\"\n"
          ]
        }
      ]
    },
    {
      "cell_type": "code",
      "metadata": {
        "colab": {
          "base_uri": "https://localhost:8080/",
          "height": 17
        },
        "id": "UKHJpRgAUYzD",
        "outputId": "13ce3e92-7681-4a47-a3b8-1b1685041999"
      },
      "source": [
        "df.to_csv('spellpara.csv')\n",
        "from google.colab import files\n",
        "files.download(\"spellpara.csv\")"
      ],
      "execution_count": null,
      "outputs": [
        {
          "output_type": "display_data",
          "data": {
            "text/plain": [
              "<IPython.core.display.Javascript object>"
            ],
            "application/javascript": [
              "\n",
              "    async function download(id, filename, size) {\n",
              "      if (!google.colab.kernel.accessAllowed) {\n",
              "        return;\n",
              "      }\n",
              "      const div = document.createElement('div');\n",
              "      const label = document.createElement('label');\n",
              "      label.textContent = `Downloading \"${filename}\": `;\n",
              "      div.appendChild(label);\n",
              "      const progress = document.createElement('progress');\n",
              "      progress.max = size;\n",
              "      div.appendChild(progress);\n",
              "      document.body.appendChild(div);\n",
              "\n",
              "      const buffers = [];\n",
              "      let downloaded = 0;\n",
              "\n",
              "      const channel = await google.colab.kernel.comms.open(id);\n",
              "      // Send a message to notify the kernel that we're ready.\n",
              "      channel.send({})\n",
              "\n",
              "      for await (const message of channel.messages) {\n",
              "        // Send a message to notify the kernel that we're ready.\n",
              "        channel.send({})\n",
              "        if (message.buffers) {\n",
              "          for (const buffer of message.buffers) {\n",
              "            buffers.push(buffer);\n",
              "            downloaded += buffer.byteLength;\n",
              "            progress.value = downloaded;\n",
              "          }\n",
              "        }\n",
              "      }\n",
              "      const blob = new Blob(buffers, {type: 'application/binary'});\n",
              "      const a = document.createElement('a');\n",
              "      a.href = window.URL.createObjectURL(blob);\n",
              "      a.download = filename;\n",
              "      div.appendChild(a);\n",
              "      a.click();\n",
              "      div.remove();\n",
              "    }\n",
              "  "
            ]
          },
          "metadata": {}
        },
        {
          "output_type": "display_data",
          "data": {
            "text/plain": [
              "<IPython.core.display.Javascript object>"
            ],
            "application/javascript": [
              "download(\"download_f895f684-bfbe-4b0d-9427-9a86286112d6\", \"spellpara.csv\", 571984)"
            ]
          },
          "metadata": {}
        }
      ]
    }
  ]
}