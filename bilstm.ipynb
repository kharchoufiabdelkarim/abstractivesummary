{
  "cells": [
    {
      "cell_type": "markdown",
      "metadata": {
        "id": "view-in-github",
        "colab_type": "text"
      },
      "source": [
        "<a href=\"https://colab.research.google.com/github/kharchoufiabdelkarim/abstractivesummary/blob/main/bilstm.ipynb\" target=\"_parent\"><img src=\"https://colab.research.google.com/assets/colab-badge.svg\" alt=\"Open In Colab\"/></a>"
      ]
    },
    {
      "cell_type": "code",
      "execution_count": null,
      "metadata": {
        "colab": {
          "base_uri": "https://localhost:8080/"
        },
        "id": "jUJ9x7Ni0LyA",
        "outputId": "e4fc6792-6119-45c8-c395-949ebc677c03"
      },
      "outputs": [
        {
          "output_type": "stream",
          "name": "stdout",
          "text": [
            "[nltk_data] Downloading package stopwords to /root/nltk_data...\n",
            "[nltk_data]   Unzipping corpora/stopwords.zip.\n"
          ]
        }
      ],
      "source": [
        "import pandas as pd\n",
        "import numpy as np\n",
        "import matplotlib.pyplot as plt\n",
        "import re\n",
        "import tensorflow as tf\n",
        "from bs4 import BeautifulSoup\n",
        "from tensorflow.keras.layers import Bidirectional, LSTM, Input, Embedding, Dense, TimeDistributed, Concatenate, Attention\n",
        "from tensorflow.keras.models import Model, load_model\n",
        "from tensorflow.keras.callbacks import EarlyStopping\n",
        "from tensorflow.keras.preprocessing.text import Tokenizer\n",
        "from tensorflow.keras.preprocessing.sequence import pad_sequences\n",
        "from sklearn.model_selection import train_test_split\n",
        "import warnings\n",
        "warnings.filterwarnings('ignore')\n",
        "import nltk\n",
        "nltk.download('stopwords')\n",
        "from nltk.corpus import stopwords"
      ]
    },
    {
      "cell_type": "code",
      "execution_count": null,
      "metadata": {
        "id": "WYkFxW6pY7sc"
      },
      "outputs": [],
      "source": [
        "import pandas as pd\n",
        "data = pd.read_csv('/content/spellgenerpara.csv')\n",
        "data.rename(columns={'document': 'text', \n",
        "                           'summary': 'summary'}, inplace=True)"
      ]
    },
    {
      "cell_type": "code",
      "execution_count": null,
      "metadata": {
        "id": "g3HeFJSP2DKr"
      },
      "outputs": [],
      "source": [
        "_MAX_SUMMARY_LEN = 20\n",
        "_MAX_TEXT_LEN    = 120\n",
        "# Declaring the important variables here, which will be used later down the notebook\n",
        "\n",
        "_NROWS           =   999\n",
        "_TEXT_PADDING    =   'post'\n",
        "_EMBEDDING_DIM   =   500\n",
        "_ENCODER_DIM     =   300\n",
        "_DECODER_DIM     =   600\n",
        "_BATCH_SIZE      =   16\n",
        "_EPOCHS          =   30"
      ]
    },
    {
      "cell_type": "code",
      "execution_count": null,
      "metadata": {
        "id": "3UoRmQRU2EYd"
      },
      "outputs": [],
      "source": [
        "\n",
        "def prepare(dataset):\n",
        "  global _MAX_SUMMARY_LEN, _MAX_TEXT_LEN\n",
        "  newtext    =  []\n",
        "  newsummary =  []\n",
        "  \n",
        "  for i in range(len(dataset['text'])):\n",
        "    if len(dataset['text'][i].split()) <= _MAX_TEXT_LEN and len(dataset['summary'][i].split()) <= _MAX_SUMMARY_LEN:\n",
        "      newtext.append(dataset['text'][i])\n",
        "      newsummary.append(dataset['summary'][i])\n",
        "\n",
        "  dataset = pd.DataFrame({'text'    : newtext,\n",
        "                          'summary' : newsummary})\n",
        "  dataset['summary'] = dataset['summary'].apply(lambda row : 'stok ' + row + ' etok')\n",
        "  dataset.reset_index(drop=True, inplace=True)\n",
        "  return dataset"
      ]
    },
    {
      "cell_type": "code",
      "execution_count": null,
      "metadata": {
        "id": "Oi63Oltk2Fql"
      },
      "outputs": [],
      "source": [
        "df = prepare(data)"
      ]
    },
    {
      "cell_type": "code",
      "execution_count": null,
      "metadata": {
        "colab": {
          "base_uri": "https://localhost:8080/",
          "height": 206
        },
        "id": "ky3-d6OZ2HMV",
        "outputId": "664ad5de-c988-4e6c-d685-c3f65272b759"
      },
      "outputs": [
        {
          "output_type": "execute_result",
          "data": {
            "text/plain": [
              "                                                text  \\\n",
              "0   who and where to get cetirizine d i need want...   \n",
              "1  who makes bromocriptine i am wondering what co...   \n",
              "2   nulytely hello can you tell me where do i ord...   \n",
              "3  williams syndrome i would like to have my daug...   \n",
              "4  clinicaltrials gov question general informatio...   \n",
              "\n",
              "                                             summary  \n",
              "0             stok who manufactures cetirizine  etok  \n",
              "1          stok who manufactures bromocriptine  etok  \n",
              "2  stok who makes nulytely and where can i buy it...  \n",
              "3  stok where can i get genetic testing for willi...  \n",
              "4  stok where can i get genetic testing for multi...  "
            ],
            "text/html": [
              "\n",
              "  <div id=\"df-0f1c1f2d-a771-4956-ad22-b0159e72c5e6\">\n",
              "    <div class=\"colab-df-container\">\n",
              "      <div>\n",
              "<style scoped>\n",
              "    .dataframe tbody tr th:only-of-type {\n",
              "        vertical-align: middle;\n",
              "    }\n",
              "\n",
              "    .dataframe tbody tr th {\n",
              "        vertical-align: top;\n",
              "    }\n",
              "\n",
              "    .dataframe thead th {\n",
              "        text-align: right;\n",
              "    }\n",
              "</style>\n",
              "<table border=\"1\" class=\"dataframe\">\n",
              "  <thead>\n",
              "    <tr style=\"text-align: right;\">\n",
              "      <th></th>\n",
              "      <th>text</th>\n",
              "      <th>summary</th>\n",
              "    </tr>\n",
              "  </thead>\n",
              "  <tbody>\n",
              "    <tr>\n",
              "      <th>0</th>\n",
              "      <td>who and where to get cetirizine d i need want...</td>\n",
              "      <td>stok who manufactures cetirizine  etok</td>\n",
              "    </tr>\n",
              "    <tr>\n",
              "      <th>1</th>\n",
              "      <td>who makes bromocriptine i am wondering what co...</td>\n",
              "      <td>stok who manufactures bromocriptine  etok</td>\n",
              "    </tr>\n",
              "    <tr>\n",
              "      <th>2</th>\n",
              "      <td>nulytely hello can you tell me where do i ord...</td>\n",
              "      <td>stok who makes nulytely and where can i buy it...</td>\n",
              "    </tr>\n",
              "    <tr>\n",
              "      <th>3</th>\n",
              "      <td>williams syndrome i would like to have my daug...</td>\n",
              "      <td>stok where can i get genetic testing for willi...</td>\n",
              "    </tr>\n",
              "    <tr>\n",
              "      <th>4</th>\n",
              "      <td>clinicaltrials gov question general informatio...</td>\n",
              "      <td>stok where can i get genetic testing for multi...</td>\n",
              "    </tr>\n",
              "  </tbody>\n",
              "</table>\n",
              "</div>\n",
              "      <button class=\"colab-df-convert\" onclick=\"convertToInteractive('df-0f1c1f2d-a771-4956-ad22-b0159e72c5e6')\"\n",
              "              title=\"Convert this dataframe to an interactive table.\"\n",
              "              style=\"display:none;\">\n",
              "        \n",
              "  <svg xmlns=\"http://www.w3.org/2000/svg\" height=\"24px\"viewBox=\"0 0 24 24\"\n",
              "       width=\"24px\">\n",
              "    <path d=\"M0 0h24v24H0V0z\" fill=\"none\"/>\n",
              "    <path d=\"M18.56 5.44l.94 2.06.94-2.06 2.06-.94-2.06-.94-.94-2.06-.94 2.06-2.06.94zm-11 1L8.5 8.5l.94-2.06 2.06-.94-2.06-.94L8.5 2.5l-.94 2.06-2.06.94zm10 10l.94 2.06.94-2.06 2.06-.94-2.06-.94-.94-2.06-.94 2.06-2.06.94z\"/><path d=\"M17.41 7.96l-1.37-1.37c-.4-.4-.92-.59-1.43-.59-.52 0-1.04.2-1.43.59L10.3 9.45l-7.72 7.72c-.78.78-.78 2.05 0 2.83L4 21.41c.39.39.9.59 1.41.59.51 0 1.02-.2 1.41-.59l7.78-7.78 2.81-2.81c.8-.78.8-2.07 0-2.86zM5.41 20L4 18.59l7.72-7.72 1.47 1.35L5.41 20z\"/>\n",
              "  </svg>\n",
              "      </button>\n",
              "      \n",
              "  <style>\n",
              "    .colab-df-container {\n",
              "      display:flex;\n",
              "      flex-wrap:wrap;\n",
              "      gap: 12px;\n",
              "    }\n",
              "\n",
              "    .colab-df-convert {\n",
              "      background-color: #E8F0FE;\n",
              "      border: none;\n",
              "      border-radius: 50%;\n",
              "      cursor: pointer;\n",
              "      display: none;\n",
              "      fill: #1967D2;\n",
              "      height: 32px;\n",
              "      padding: 0 0 0 0;\n",
              "      width: 32px;\n",
              "    }\n",
              "\n",
              "    .colab-df-convert:hover {\n",
              "      background-color: #E2EBFA;\n",
              "      box-shadow: 0px 1px 2px rgba(60, 64, 67, 0.3), 0px 1px 3px 1px rgba(60, 64, 67, 0.15);\n",
              "      fill: #174EA6;\n",
              "    }\n",
              "\n",
              "    [theme=dark] .colab-df-convert {\n",
              "      background-color: #3B4455;\n",
              "      fill: #D2E3FC;\n",
              "    }\n",
              "\n",
              "    [theme=dark] .colab-df-convert:hover {\n",
              "      background-color: #434B5C;\n",
              "      box-shadow: 0px 1px 3px 1px rgba(0, 0, 0, 0.15);\n",
              "      filter: drop-shadow(0px 1px 2px rgba(0, 0, 0, 0.3));\n",
              "      fill: #FFFFFF;\n",
              "    }\n",
              "  </style>\n",
              "\n",
              "      <script>\n",
              "        const buttonEl =\n",
              "          document.querySelector('#df-0f1c1f2d-a771-4956-ad22-b0159e72c5e6 button.colab-df-convert');\n",
              "        buttonEl.style.display =\n",
              "          google.colab.kernel.accessAllowed ? 'block' : 'none';\n",
              "\n",
              "        async function convertToInteractive(key) {\n",
              "          const element = document.querySelector('#df-0f1c1f2d-a771-4956-ad22-b0159e72c5e6');\n",
              "          const dataTable =\n",
              "            await google.colab.kernel.invokeFunction('convertToInteractive',\n",
              "                                                     [key], {});\n",
              "          if (!dataTable) return;\n",
              "\n",
              "          const docLinkHtml = 'Like what you see? Visit the ' +\n",
              "            '<a target=\"_blank\" href=https://colab.research.google.com/notebooks/data_table.ipynb>data table notebook</a>'\n",
              "            + ' to learn more about interactive tables.';\n",
              "          element.innerHTML = '';\n",
              "          dataTable['output_type'] = 'display_data';\n",
              "          await google.colab.output.renderOutput(dataTable, element);\n",
              "          const docLink = document.createElement('div');\n",
              "          docLink.innerHTML = docLinkHtml;\n",
              "          element.appendChild(docLink);\n",
              "        }\n",
              "      </script>\n",
              "    </div>\n",
              "  </div>\n",
              "  "
            ]
          },
          "metadata": {},
          "execution_count": 63
        }
      ],
      "source": [
        "\n",
        "df.head()"
      ]
    },
    {
      "cell_type": "code",
      "source": [
        "df['text'][1]"
      ],
      "metadata": {
        "colab": {
          "base_uri": "https://localhost:8080/",
          "height": 70
        },
        "id": "upN-k9ozlMfT",
        "outputId": "d9e2d80a-4244-4c54-d298-338ba8040e89"
      },
      "execution_count": null,
      "outputs": [
        {
          "output_type": "execute_result",
          "data": {
            "text/plain": [
              "'who makes bromocriptine i am wondering what company makes the drug bromocriptine i need it for a mass i have on my pituitary gland and the cost just keeps raising i cannot ever buy a full prescription because of the price and i was told if i get a hold of the maker of the drug sometimes they offer coupons or something to help me afford the medicine if i buy pills in which i have to take times a day it costs me and that is how i have to buy them thanks '"
            ],
            "application/vnd.google.colaboratory.intrinsic+json": {
              "type": "string"
            }
          },
          "metadata": {},
          "execution_count": 58
        }
      ]
    },
    {
      "cell_type": "code",
      "execution_count": null,
      "metadata": {
        "id": "_uMHANED2KlB"
      },
      "outputs": [],
      "source": [
        "x_tr, x_val, y_tr, y_val = train_test_split(np.array(df['text']), np.array(df['summary']),\n",
        "                                       test_size=0.2, random_state=42)"
      ]
    },
    {
      "cell_type": "code",
      "execution_count": null,
      "metadata": {
        "id": "lufAE2Jr2Nb1"
      },
      "outputs": [],
      "source": [
        "# preparing 'text' for model training and validation\n",
        "tok_x  = Tokenizer()\n",
        "tok_x.fit_on_texts(list(x_tr))\n",
        "x_tr    =  pad_sequences(tok_x.texts_to_sequences(x_tr),  maxlen=_MAX_TEXT_LEN, padding=_TEXT_PADDING)\n",
        "x_val   =  pad_sequences(tok_x.texts_to_sequences(x_val), maxlen=_MAX_TEXT_LEN, padding=_TEXT_PADDING)\n",
        "vocab_x =  len(tok_x.word_counts) + 1"
      ]
    },
    {
      "cell_type": "code",
      "execution_count": null,
      "metadata": {
        "colab": {
          "base_uri": "https://localhost:8080/"
        },
        "id": "OQt_xTSI2PkJ",
        "outputId": "b52d5a1b-d2bb-42db-8560-eda28ed1f9e3"
      },
      "outputs": [
        {
          "output_type": "execute_result",
          "data": {
            "text/plain": [
              "4367"
            ]
          },
          "metadata": {},
          "execution_count": 66
        }
      ],
      "source": [
        "vocab_x"
      ]
    },
    {
      "cell_type": "code",
      "execution_count": null,
      "metadata": {
        "id": "nu4OkqJE2RGv"
      },
      "outputs": [],
      "source": [
        "# preparing 'summary' for model training and validation\n",
        "tok_y  = Tokenizer()\n",
        "tok_y.fit_on_texts(list(y_tr))\n",
        "y_tr    =  pad_sequences(tok_y.texts_to_sequences(y_tr),  maxlen=_MAX_TEXT_LEN, padding=_TEXT_PADDING)\n",
        "y_val   =  pad_sequences(tok_y.texts_to_sequences(y_val), maxlen=_MAX_TEXT_LEN, padding=_TEXT_PADDING)\n",
        "vocab_y =  len(tok_y.word_counts) + 1"
      ]
    },
    {
      "cell_type": "code",
      "execution_count": null,
      "metadata": {
        "colab": {
          "base_uri": "https://localhost:8080/"
        },
        "id": "hdcrQ6nZ2SVG",
        "outputId": "8aafaf81-aefb-4d81-e22f-b39c0af97b46"
      },
      "outputs": [
        {
          "output_type": "execute_result",
          "data": {
            "text/plain": [
              "1713"
            ]
          },
          "metadata": {},
          "execution_count": 12
        }
      ],
      "source": [
        "vocab_y"
      ]
    },
    {
      "cell_type": "code",
      "execution_count": null,
      "metadata": {
        "colab": {
          "base_uri": "https://localhost:8080/"
        },
        "id": "-vFoDKt_2TtA",
        "outputId": "01aef5a1-7199-4045-badb-e5156ce4a95f"
      },
      "outputs": [
        {
          "output_type": "execute_result",
          "data": {
            "text/plain": [
              "(577, 577)"
            ]
          },
          "metadata": {},
          "execution_count": 17
        }
      ],
      "source": [
        "tok_y.word_counts['stok'], len(y_tr)"
      ]
    },
    {
      "cell_type": "code",
      "execution_count": null,
      "metadata": {
        "id": "j6tlyq6b2U-9"
      },
      "outputs": [],
      "source": [
        "index_to_word_text    =  tok_x.index_word\n",
        "index_to_word_summary =  tok_y.index_word\n",
        "word_to_index_summary =  tok_y.word_index"
      ]
    },
    {
      "cell_type": "code",
      "execution_count": null,
      "metadata": {
        "colab": {
          "base_uri": "https://localhost:8080/"
        },
        "id": "U9SeNfOnUEC9",
        "outputId": "51482b39-c8aa-47c8-d657-21ea0e07b658"
      },
      "outputs": [
        {
          "output_type": "stream",
          "name": "stdout",
          "text": [
            "WARNING:tensorflow:Layer lstm will not use cuDNN kernels since it doesn't meet the criteria. It will use a generic GPU kernel as fallback when running on GPU.\n",
            "WARNING:tensorflow:Layer lstm will not use cuDNN kernels since it doesn't meet the criteria. It will use a generic GPU kernel as fallback when running on GPU.\n",
            "WARNING:tensorflow:Layer lstm will not use cuDNN kernels since it doesn't meet the criteria. It will use a generic GPU kernel as fallback when running on GPU.\n",
            "WARNING:tensorflow:Layer Decoder_layer will not use cuDNN kernels since it doesn't meet the criteria. It will use a generic GPU kernel as fallback when running on GPU.\n",
            "Model: \"Model\"\n",
            "__________________________________________________________________________________________________\n",
            " Layer (type)                   Output Shape         Param #     Connected to                     \n",
            "==================================================================================================\n",
            " Encoder_input (InputLayer)     [(None, 120)]        0           []                               \n",
            "                                                                                                  \n",
            " Encoder_embedding (Embedding)  (None, 120, 500)     1763500     ['Encoder_input[0][0]']          \n",
            "                                                                                                  \n",
            " Decoder_input (InputLayer)     [(None, None)]       0           []                               \n",
            "                                                                                                  \n",
            " Encoder_layer (Bidirectional)  [(None, 120, 600),   1922400     ['Encoder_embedding[0][0]']      \n",
            "                                 (None, 300),                                                     \n",
            "                                 (None, 300),                                                     \n",
            "                                 (None, 300),                                                     \n",
            "                                 (None, 300)]                                                     \n",
            "                                                                                                  \n",
            " Decoder_embedding (Embedding)  (None, None, 500)    685000      ['Decoder_input[0][0]']          \n",
            "                                                                                                  \n",
            " concatenate (Concatenate)      (None, 600)          0           ['Encoder_layer[0][1]',          \n",
            "                                                                  'Encoder_layer[0][3]']          \n",
            "                                                                                                  \n",
            " concatenate_1 (Concatenate)    (None, 600)          0           ['Encoder_layer[0][2]',          \n",
            "                                                                  'Encoder_layer[0][4]']          \n",
            "                                                                                                  \n",
            " Decoder_layer (LSTM)           [(None, None, 600),  2642400     ['Decoder_embedding[0][0]',      \n",
            "                                 (None, 600),                     'concatenate[0][0]',            \n",
            "                                 (None, 600)]                     'concatenate_1[0][0]']          \n",
            "                                                                                                  \n",
            " Attention_layer (Attention)    (None, None, 600)    0           ['Decoder_layer[0][0]',          \n",
            "                                                                  'Encoder_layer[0][0]']          \n",
            "                                                                                                  \n",
            " Concat_layer (Concatenate)     (None, None, 1200)   0           ['Decoder_layer[0][0]',          \n",
            "                                                                  'Attention_layer[0][0]']        \n",
            "                                                                                                  \n",
            " time_distributed (TimeDistribu  (None, None, 1370)  1645370     ['Concat_layer[0][0]']           \n",
            " ted)                                                                                             \n",
            "                                                                                                  \n",
            "==================================================================================================\n",
            "Total params: 8,658,670\n",
            "Trainable params: 8,658,670\n",
            "Non-trainable params: 0\n",
            "__________________________________________________________________________________________________\n"
          ]
        }
      ],
      "source": [
        "# Encoder\n",
        "encoder_input  =  Input(shape=(_MAX_TEXT_LEN,), name='Encoder_input')\n",
        "encoder_embed  =  Embedding(vocab_x, _EMBEDDING_DIM, trainable=True, name='Encoder_embedding')(encoder_input)\n",
        "encoder        =  Bidirectional(LSTM(_ENCODER_DIM, \n",
        "                                     return_sequences=True,\n",
        "                                     return_state=True,\n",
        "                                     dropout=0.4, recurrent_dropout=0.4), name='Encoder_layer')\n",
        "encoder_output, forward_h, forward_c, backward_h, backward_c = encoder(encoder_embed)\n",
        "state_h        =  Concatenate()([forward_h, backward_h])\n",
        "state_c        =  Concatenate()([forward_c, backward_c])\n",
        "\n",
        "# Decoder\n",
        "decoder_input        =  Input(shape=(None,), name='Decoder_input')\n",
        "decoder_embed_layer  =  Embedding(vocab_y, _EMBEDDING_DIM, trainable=True, name='Decoder_embedding')\n",
        "decoder_embed        =  decoder_embed_layer(decoder_input)\n",
        "decoder              =  LSTM(_DECODER_DIM,\n",
        "                             return_sequences=True,\n",
        "                             return_state=True,\n",
        "                             dropout=0.4, recurrent_dropout=0.3, name='Decoder_layer')\n",
        "decoder_output, decoder_state_h, decoder_state_c = decoder(decoder_embed,initial_state=[state_h, state_c])\n",
        "\n",
        "# Attention layer\n",
        "attention_layer =  Attention(name='Attention_layer')\n",
        "attention_out   =  attention_layer([decoder_output, encoder_output])\n",
        "\n",
        "# Concat attention layer's output and decoder's output\n",
        "concat_layer    =  Concatenate(axis=-1, name='Concat_layer')([decoder_output, attention_out])\n",
        "\n",
        "# Dense layer\n",
        "decoder_dense   =  TimeDistributed(Dense(vocab_y, activation='softmax'))\n",
        "decoder_output  =  decoder_dense(concat_layer)\n",
        "\n",
        "# Model \n",
        "model           =  Model([encoder_input, decoder_input], decoder_output, name='Model')\n",
        "\n",
        "model.summary()"
      ]
    },
    {
      "cell_type": "code",
      "execution_count": null,
      "metadata": {
        "colab": {
          "base_uri": "https://localhost:8080/"
        },
        "id": "9TvQMlhj2fux",
        "outputId": "ea7e7e45-044f-4550-85ac-513579ba0d34"
      },
      "outputs": [
        {
          "output_type": "stream",
          "name": "stdout",
          "text": [
            "Epoch 1/20\n",
            "37/37 [==============================] - 66s 2s/step - loss: 1.6303 - val_loss: 0.3885\n",
            "Epoch 2/20\n",
            "37/37 [==============================] - 53s 1s/step - loss: 0.4731 - val_loss: 0.3500\n",
            "Epoch 3/20\n",
            "37/37 [==============================] - 53s 1s/step - loss: 0.4392 - val_loss: 0.3340\n",
            "Epoch 4/20\n",
            "37/37 [==============================] - 53s 1s/step - loss: 0.4184 - val_loss: 0.3298\n",
            "Epoch 5/20\n",
            "37/37 [==============================] - 53s 1s/step - loss: 0.4035 - val_loss: 0.3163\n",
            "Epoch 6/20\n",
            "37/37 [==============================] - 53s 1s/step - loss: 0.3862 - val_loss: 0.3145\n",
            "Epoch 7/20\n",
            "37/37 [==============================] - 54s 1s/step - loss: 0.3693 - val_loss: 0.3024\n",
            "Epoch 8/20\n",
            "37/37 [==============================] - 53s 1s/step - loss: 0.3489 - val_loss: 0.2913\n",
            "Epoch 9/20\n",
            "37/37 [==============================] - 53s 1s/step - loss: 0.3331 - val_loss: 0.2881\n",
            "Epoch 10/20\n",
            "37/37 [==============================] - 53s 1s/step - loss: 0.3126 - val_loss: 0.2847\n",
            "Epoch 11/20\n",
            "37/37 [==============================] - 53s 1s/step - loss: 0.2988 - val_loss: 0.2765\n",
            "Epoch 12/20\n",
            "37/37 [==============================] - 53s 1s/step - loss: 0.2845 - val_loss: 0.2747\n",
            "Epoch 13/20\n",
            "37/37 [==============================] - 54s 1s/step - loss: 0.2663 - val_loss: 0.2794\n",
            "Epoch 14/20\n",
            "37/37 [==============================] - 53s 1s/step - loss: 0.2522 - val_loss: 0.2809\n",
            "Epoch 14: early stopping\n"
          ]
        }
      ],
      "source": [
        "\n",
        "model.compile(optimizer='adam', loss='sparse_categorical_crossentropy')\n",
        "\n",
        "stopearly =  EarlyStopping(monitor='val_loss', mode='min', verbose=1, patience=2)\n",
        "X         =  [x_tr,y_tr[:,:-1]]\n",
        "y         =  y_tr.reshape(y_tr.shape[0], y_tr.shape[1], 1)[:,1:]\n",
        "VAL_X     =  [x_val,y_val[:,:-1]]\n",
        "VAL_y     =  y_val.reshape(y_val.shape[0], y_val.shape[1], 1)[:,1:]\n",
        "history   =  model.fit(X, y, epochs=30, callbacks=[stopearly], batch_size=_BATCH_SIZE, validation_data=(VAL_X, VAL_y))"
      ]
    },
    {
      "cell_type": "code",
      "execution_count": null,
      "metadata": {
        "colab": {
          "base_uri": "https://localhost:8080/",
          "height": 295
        },
        "id": "yDdOuIBE2ieh",
        "outputId": "1c5a1ff8-5ddd-4197-e0cc-d9a7602a85d7"
      },
      "outputs": [
        {
          "output_type": "display_data",
          "data": {
            "text/plain": [
              "<Figure size 432x288 with 1 Axes>"
            ],
            "image/png": "[encoded data removed]"
          },
          "metadata": {
            "needs_background": "light"
          }
        }
      ],
      "source": [
        "# For loss\n",
        "plt.plot(history.history['loss'])\n",
        "plt.plot(history.history['val_loss'])\n",
        "plt.title('model loss')\n",
        "plt.xlabel('no. of epochs')\n",
        "plt.ylabel('loss')\n",
        "plt.legend(['train', 'validate'], loc='upper right')\n",
        "plt.show()"
      ]
    },
    {
      "cell_type": "code",
      "execution_count": null,
      "metadata": {
        "colab": {
          "background_save": true
        },
        "id": "4XZ_DwvdkaoP"
      },
      "outputs": [],
      "source": [
        ""
      ]
    },
    {
      "cell_type": "code",
      "execution_count": null,
      "metadata": {
        "id": "dmFN8erkj_Jg"
      },
      "outputs": [],
      "source": [
        "_MODEL_NAME = 'model_3'\n",
        "model.save('/content/drive/My Drive/ML Project/model3.h5')"
      ]
    },
    {
      "cell_type": "code",
      "execution_count": null,
      "metadata": {
        "id": "pWTeQ6fM7ACh"
      },
      "outputs": [],
      "source": [
        "encoder_model = Model(inputs  = encoder_input,\n",
        "                outputs = [encoder_output, state_h, state_c])\n",
        "\n",
        "# For storing decoder's previous states which will act as our encoder here\n",
        "decoder_previous_state_h = Input(shape=(_DECODER_DIM,))\n",
        "decoder_previous_state_c = Input(shape=(_DECODER_DIM,))\n",
        "decoder_previous_output  = Input(shape=(_MAX_TEXT_LEN, _DECODER_DIM))\n",
        "\n",
        "# This new decoder will take the 'previous decoder' i.e, our encoder's output\n",
        "decoder_embed_new = decoder_embed_layer(decoder_input)\n",
        "decoder_output_new, state_h_new, state_c_new = decoder(decoder_embed_new,\n",
        "                                                       initial_state = [decoder_previous_state_h, decoder_previous_state_c])\n",
        "\n",
        "# Attention layer & concat layer for the new decoder and encoder\n",
        "attention_out_new    =  attention_layer([decoder_output_new, decoder_previous_output])\n",
        "concat_layer_final   =  Concatenate(axis=-1)([decoder_output_new, attention_out_new])\n",
        "\n",
        "# A dense softmax layer to generate prob dist. over the target vocabulary\n",
        "decoder_output_final =  decoder_dense(concat_layer_final)\n",
        "\n",
        "# Final decoder model\n",
        "decoder_model = Model(\n",
        "    [decoder_input] + [decoder_previous_output, decoder_previous_state_h, decoder_previous_state_c],\n",
        "    [decoder_output_final] + [state_h_new, state_c_new])"
      ]
    },
    {
      "cell_type": "code",
      "execution_count": null,
      "metadata": {
        "id": "6PeGhsSZ7ALM"
      },
      "outputs": [],
      "source": [
        "# Summarizes an input sequence to the final sequence by making the encoder-decoder model \n",
        "# predict 1 word at a time\n",
        "\n",
        "def summarizer(input_seq):\n",
        "    encoder_out, encoder_h, encoder_c = encoder_model.predict(input_seq)\n",
        "    target_seq = np.zeros((1,1))\n",
        "    target_seq[0, 0] = word_to_index_summary['stok']\n",
        "    stop_condition = False\n",
        "    decoded_sentence = ''\n",
        "\n",
        "    while not stop_condition:\n",
        "        output_tokens, h, c = decoder_model.predict([target_seq] + [encoder_out, encoder_h, encoder_c])\n",
        "        # Greedy decoder\n",
        "        sampled_token_index = np.argmax(output_tokens[0, -1, :])\n",
        "        sampled_token = index_to_word_summary[sampled_token_index]\n",
        "        \n",
        "        if sampled_token != 'etok':\n",
        "            decoded_sentence += sampled_token + ' '\n",
        "\n",
        "        if sampled_token == 'etok' or len(decoded_sentence.split()) >= (_MAX_SUMMARY_LEN-1):\n",
        "            stop_condition = True\n",
        "\n",
        "        target_seq = np.zeros((1,1))\n",
        "        target_seq[0, 0] = sampled_token_index\n",
        "\n",
        "        encoder_h, encoder_c = h, c\n",
        "\n",
        "    return decoded_sentence"
      ]
    },
    {
      "cell_type": "code",
      "execution_count": null,
      "metadata": {
        "id": "0O0BKKig7AO3"
      },
      "outputs": [],
      "source": [
        "def sequence_to_summary(input_seq):\n",
        "    s = ''\n",
        "    for i in input_seq:\n",
        "        if i != 0 and i != word_to_index_summary['stok'] and i != word_to_index_summary['etok']:\n",
        "            s += index_to_word_summary[i] + ' '\n",
        "    return s\n",
        "\n",
        "def sequence_to_text(input_seq):\n",
        "    s = ''\n",
        "    for i in input_seq:\n",
        "        if i != 0:\n",
        "            s += index_to_word_text[i] + ' '\n",
        "    return s"
      ]
    },
    {
      "cell_type": "code",
      "execution_count": null,
      "metadata": {
        "colab": {
          "base_uri": "https://localhost:8080/"
        },
        "id": "brREBXeM7oKW",
        "outputId": "61862b2a-b291-4b16-a4a7-489652fca3f6"
      },
      "outputs": [
        {
          "output_type": "stream",
          "name": "stdout",
          "text": [
            "Review: nail problem my son is in problem of deals so what i do which medicine is better what is the name of my son i nail problem what medicine is better for nail problems my son has a nail problem and i don i know which medicine is better \n",
            "Original summary: which medicine is better for a nail problem \n",
            "Predicted summary: what are the treatments for dry skin \n",
            "\n",
            "\n",
            "Review: trying to loss before july i am trying to loss pounds before july the problem is i work hours a day don i have time to do anything else is there a debt pills or shake that i can use to help me also my problem area is stomach waist butt and hip please help how many pounds am i trying to lose before july what is my problem area i am trying to lose some weight but i don i have time to do anything else and i have a problem with my hip and stomach \n",
            "Original summary: where can i find information on weight loss pills \n",
            "Predicted summary: what are the treatments for dry skin \n",
            "\n",
            "\n",
            "Review: garcia cambodia in the usa and elsewhere plenty of adds promoting the extract of this plant garcia cambodia to fight obesity any reliable information on this claim will be appreciated what is garcia cambodia in the usa and elsewhere promoting the extract of this plant to fight obesity any reliable information on the claim that the extract of this plant can be used to fight obesity will be appreciated \n",
            "Original summary: does garcinia cambogia help weight loss \n",
            "Predicted summary: what are the treatments for high in in in in in in the the the \n",
            "\n",
            "\n",
            "Review: can i take sam e with my blood pressure med and simvastatin pressure med is metoprolol im and have panic attacks i am not on any other meds i have a physical this week and a blood test will sam e interfere with a blood test i also have spinal stenosis with numbness and prickly feelings in my body im going to talk to my do about all of this on for ay dos thank you \n",
            "Original summary: what are the dosage side effects and drug interactions for sam e \n",
            "Predicted summary: what are the treatments for dry skin \n",
            "\n",
            "\n",
            "Review: beginning forgetfulness are there any suggestions for help or coping with beginning forgetfulness healthy female looking for something to read about this problem and how to cope have not been diagnosed with any disease of the body or brain what are there suggestions for help or coping with beginning forgetfulness healthy female looking for something to read about this problem and how to cope healthy female looking for something to read about this problem and how to cope have not been diagnosed with any disease of the body or brain \n",
            "Original summary: where can i get information on forgetfulness and what resources are available for combating it \n",
            "Predicted summary: what are the treatments for dry skin cancer \n",
            "\n",
            "\n"
          ]
        }
      ],
      "source": [
        "for i in range(5):\n",
        "    print(\"Review:\",sequence_to_text(x_tr[i]))\n",
        "    print(\"Original summary:\",sequence_to_summary(y_tr[i]))\n",
        "    print(\"Predicted summary:\",summarizer(x_tr[i].reshape(1,_MAX_TEXT_LEN)))\n",
        "    print(\"\\n\")"
      ]
    },
    {
      "cell_type": "code",
      "execution_count": null,
      "metadata": {
        "colab": {
          "base_uri": "https://localhost:8080/"
        },
        "id": "0Bv0vUcO7tvA",
        "outputId": "16464c9e-6df0-4180-b450-b58d1e764cea"
      },
      "outputs": [
        {
          "output_type": "stream",
          "name": "stdout",
          "text": [
            "Review: voice hi i am wondering if anyone can help me get my voice back i have als in my throat and i don i want to go out on a disability i want to keep working thank you what is in my throat and i don i want to go out on disability i don i want to go out on a disability and i i wondering if anyone can help me get my voice back \n",
            "Original summary: what are the treatments for disorders caused by als \n",
            "Predicted summary: what are the treatments for dry skin \n",
            "\n",
            "\n",
            "Review: we are planning to develop to cure any kind of paralysis and stroke research how you cure parkinson disease what kind of paralysis are we planning to cure what type of research is to cure parkinson disease we are going to find a cure for paralysis and stroke \n",
            "Original summary: what are the treatments for parkinson disease \n",
            "Predicted summary: what are the treatments for dry skin \n",
            "\n",
            "\n",
            "Review: or my my daily doctor prescribed for type diabetes i my times daily pharmacy refused to of who is right what is maximum daily dos of pharmacy is a non pharmacy for a major city prov ed for only \n",
            "Original summary: what is the maximum dosage of \n",
            "Predicted summary: what are the treatments for dry skin \n",
            "\n",
            "\n",
            "Review: intake my mother is years old and in good health i keep her on a low diet and wonder if i i not in her diet what is the amount she should have per day thank you how old is my mother what is the amount of she should have per day i keep my mother on a low diet but i i not sure what the amount she should have per day is \n",
            "Original summary: what is the required day in elderly \n",
            "Predicted summary: what are the treatments for dry skin \n",
            "\n",
            "\n",
            "Review: treatment for goiter hi i i suffering from goiter the size of enlarged thro gland is but not like a big one i need treatment for this some doctors have suggested surgery which i don i want to go through what are the other treatment options also let me know the place where i can to consult thanks \n",
            "Original summary: what are the non surgical treatments for goiter and where can i find a specialist to treat it \n",
            "Predicted summary: what are the treatments for dry skin cancer \n",
            "\n",
            "\n"
          ]
        }
      ],
      "source": [
        "for i in range(5):\n",
        "    print(\"Review:\",sequence_to_text(x_val[i]))\n",
        "    print(\"Original summary:\",sequence_to_summary(y_val[i]))\n",
        "    print(\"Predicted summary:\",summarizer(x_val[i].reshape(1,_MAX_TEXT_LEN)))\n",
        "    print(\"\\n\")"
      ]
    },
    {
      "cell_type": "code",
      "execution_count": null,
      "metadata": {
        "colab": {
          "base_uri": "https://localhost:8080/"
        },
        "id": "N-cLIBMUGRpB",
        "outputId": "366a9584-08de-4336-ef62-629a61b1dade"
      },
      "outputs": [
        {
          "output_type": "stream",
          "name": "stdout",
          "text": [
            "Looking in indexes: https://pypi.org/simple, https://us-python.pkg.dev/colab-wheels/public/simple/\n",
            "Collecting contractions\n",
            "  Downloading contractions-0.1.72-py2.py3-none-any.whl (8.3 kB)\n",
            "Collecting textsearch>=0.0.21\n",
            "  Downloading textsearch-0.0.21-py2.py3-none-any.whl (7.5 kB)\n",
            "Collecting anyascii\n",
            "  Downloading anyascii-0.3.1-py3-none-any.whl (287 kB)\n",
            "\u001b[K     |████████████████████████████████| 287 kB 8.1 MB/s \n",
            "\u001b[?25hCollecting pyahocorasick\n",
            "  Downloading pyahocorasick-1.4.4-cp37-cp37m-manylinux_2_17_x86_64.manylinux2014_x86_64.whl (106 kB)\n",
            "\u001b[K     |████████████████████████████████| 106 kB 66.1 MB/s \n",
            "\u001b[?25hInstalling collected packages: pyahocorasick, anyascii, textsearch, contractions\n",
            "Successfully installed anyascii-0.3.1 contractions-0.1.72 pyahocorasick-1.4.4 textsearch-0.0.21\n"
          ]
        }
      ],
      "source": [
        "! pip install contractions"
      ]
    },
    {
      "cell_type": "code",
      "execution_count": null,
      "metadata": {
        "colab": {
          "base_uri": "https://localhost:8080/"
        },
        "id": "g_COX0FRFVsN",
        "outputId": "a21bfbf0-068e-45c5-8c7b-98719d06b19f"
      },
      "outputs": [
        {
          "output_type": "stream",
          "name": "stdout",
          "text": [
            "[nltk_data] Downloading package stopwords to /root/nltk_data...\n",
            "[nltk_data]   Package stopwords is already up-to-date!\n"
          ]
        }
      ],
      "source": [
        "import re\n",
        "import os\n",
        "import pickle\n",
        "import logging\n",
        "import numpy as np\n",
        "import pandas as pd\n",
        "import contractions\n",
        "from nltk.corpus import stopwords\n",
        "from tensorflow.keras.models import load_model\n",
        "from tensorflow.keras.preprocessing.text import Tokenizer\n",
        "from tensorflow.keras.preprocessing.sequence import pad_sequences\n",
        "import nltk\n",
        "nltk.download('stopwords')\n",
        "\n",
        "os.environ[\"TF_CPP_MIN_LOG_LEVEL\"] = \"3\"\n",
        "logging.getLogger(\"tensorflow\").setLevel(logging.CRITICAL)\n",
        "\n",
        "\n",
        "class Summarizer:\n",
        "\n",
        "  def __init__(self):\n",
        "    self.dir_path = '/content/gdrive/My Drive/Colab Notebooks/Summarization/summarization v2'\n",
        "    self._MAX_TEXT_LEN    =  120\n",
        "    self._MAX_SUMMARY_LEN =  20\n",
        "    self._TEXT_PADDING    =  'post'\n",
        "    self.encoder_model = encoder_model\n",
        "    self.decoder_model = decoder_model\n",
        "    self.index_to_word_text, self.index_to_word_summary, self.word_to_index_summary = index_to_word_text, index_to_word_summary, word_to_index_summary\n",
        "    self.tok_x = tok_x\n",
        "  \n",
        "  def summarize(self, sent):\n",
        "    \"\"\"wrapper function to test the model\"\"\"\n",
        "\n",
        "    sent = self.cleaner(sent, remove_stopwords=True)\n",
        "    if len(sent.split()) > self._MAX_TEXT_LEN:\n",
        "      return \"make your sentence length less than {} words\".format(self._MAX_TEXT_LEN)\n",
        "\n",
        "    seq = self.tok_x.texts_to_sequences(sent.split())\n",
        "    seq = [[item for sublist in seq for item in sublist]]\n",
        "    seq = pad_sequences(seq, maxlen=self._MAX_TEXT_LEN, padding=self._TEXT_PADDING)\n",
        "    return self.seq2seq_model(seq.reshape(1, self._MAX_TEXT_LEN))\n",
        "\n",
        "\n",
        "  def cleaner(self, text, remove_stopwords=True):\n",
        "    \"\"\"removes url's, nltk's stopwords and anything which is not an alphabet\"\"\"\n",
        "\n",
        "    stop_words = set(stopwords.words('english'))\n",
        "    text = re.sub(r'^https?:\\/\\/.*[\\r\\n]*', '', text.lower(), flags=re.MULTILINE)\n",
        "    text = re.sub(r'[^a-zA-Z]', ' ', text)\n",
        "    text = contractions.fix(text, slang=False)\n",
        "    if remove_stopwords:\n",
        "      text = ' '.join([word for word in text.split() if word not in stop_words]).strip()\n",
        "      \n",
        "    return text\n",
        "  \n",
        "  def seq2seq_model(self, input_seq):\n",
        "    \"\"\"summarizes the input text given and returns the summarized string\"\"\"\n",
        "\n",
        "    encoder_out, encoder_h, encoder_c = self.encoder_model.predict(input_seq)\n",
        "    target_seq = np.zeros((1,1))\n",
        "    target_seq[0, 0] = self.word_to_index_summary['stok']\n",
        "    stop_condition = False\n",
        "    decoded_sentence = ''\n",
        "\n",
        "    while not stop_condition:\n",
        "      output_tokens, h, c = self.decoder_model.predict([target_seq] + [encoder_out, encoder_h, encoder_c])\n",
        "      sampled_token_index = np.argmax(output_tokens[0, -1, :])\n",
        "      sampled_token = self.index_to_word_summary[sampled_token_index]\n",
        "      \n",
        "      if sampled_token != 'etok':\n",
        "        decoded_sentence += sampled_token + ' '\n",
        "        \n",
        "      if sampled_token == 'etok' or len(decoded_sentence.split()) >= (self._MAX_SUMMARY_LEN-1):\n",
        "        stop_condition = True\n",
        "\n",
        "      target_seq = np.zeros((1,1))\n",
        "      target_seq[0, 0] = sampled_token_index\n",
        "      encoder_h, encoder_c = h, c\n",
        "\n",
        "    return decoded_sentence"
      ]
    },
    {
      "cell_type": "code",
      "execution_count": null,
      "metadata": {
        "colab": {
          "base_uri": "https://localhost:8080/"
        },
        "id": "sds3UQWEF8M4",
        "outputId": "ade82ce7-5986-4ba4-97d0-2b28d5aec4d6"
      },
      "outputs": [
        {
          "output_type": "stream",
          "name": "stdout",
          "text": [
            "Looking in indexes: https://pypi.org/simple, https://us-python.pkg.dev/colab-wheels/public/simple/\n",
            "Collecting Rouge\n",
            "  Downloading rouge-1.0.1-py3-none-any.whl (13 kB)\n",
            "Requirement already satisfied: six in /usr/local/lib/python3.7/dist-packages (from Rouge) (1.15.0)\n",
            "Installing collected packages: Rouge\n",
            "Successfully installed Rouge-1.0.1\n"
          ]
        }
      ],
      "source": [
        "!pip install Rouge\n",
        "from rouge import Rouge\n",
        "\n",
        "scorer = Rouge()"
      ]
    },
    {
      "cell_type": "code",
      "execution_count": null,
      "metadata": {
        "id": "lxk0c3fyK6Gf"
      },
      "outputs": [],
      "source": [
        "\n",
        "# loading our model\n",
        "model1 = Summarizer()"
      ]
    },
    {
      "cell_type": "code",
      "execution_count": null,
      "metadata": {
        "id": "E2xjcGLBlwqq"
      },
      "outputs": [],
      "source": [
        "def tryit(sent):\n",
        "  \"\"\"wrapper function to test the model\"\"\"\n",
        "\n",
        "  sent = cleaner(sent, remove_stopwords=True)\n",
        "  if len(sent.split()) > _MAX_TEXT_LEN:\n",
        "    return \"make your sentence length less than {} words\".format(_MAX_TEXT_LEN)\n",
        "\n",
        "  seq = tok_x.texts_to_sequences(sent.split())\n",
        "  seq = [[item for sublist in seq for item in sublist]]\n",
        "  seq = pad_sequences(seq, maxlen=_MAX_TEXT_LEN, padding=_TEXT_PADDING)\n",
        "  return summarizer(seq.reshape(1,_MAX_TEXT_LEN))"
      ]
    },
    {
      "cell_type": "code",
      "execution_count": null,
      "metadata": {
        "id": "TmO7zkhnlzYU"
      },
      "outputs": [],
      "source": [
        "text = 'We tried the Megna for the first time last night and the food was great, freshly cooked very tasty and well presented. \\\n",
        "The waiters were attentive and service overall was good. The restaurant looked to have been recently decorated. \\\n",
        "Overall a good meal and great value we will certainly be going back.'\n",
        "\n",
        "real_summary = 'tried megna good food attentive waiters'"
      ]
    },
    {
      "cell_type": "code",
      "execution_count": null,
      "metadata": {
        "colab": {
          "base_uri": "https://localhost:8080/",
          "height": 287
        },
        "id": "W3SN_vwXl1Zk",
        "outputId": "cf6e9974-151f-45ed-a09d-830566c2146c"
      },
      "outputs": [
        {
          "output_type": "error",
          "ename": "NameError",
          "evalue": "ignored",
          "traceback": [
            "\u001b[0;31m---------------------------------------------------------------------------\u001b[0m",
            "\u001b[0;31mNameError\u001b[0m                                 Traceback (most recent call last)",
            "\u001b[0;32m<ipython-input-32-29cb0a2aea75>\u001b[0m in \u001b[0;36m<module>\u001b[0;34m()\u001b[0m\n\u001b[0;32m----> 1\u001b[0;31m \u001b[0mtryit\u001b[0m\u001b[0;34m(\u001b[0m\u001b[0mtext\u001b[0m\u001b[0;34m)\u001b[0m\u001b[0;34m\u001b[0m\u001b[0;34m\u001b[0m\u001b[0m\n\u001b[0m",
            "\u001b[0;32m<ipython-input-30-70a3393b36cc>\u001b[0m in \u001b[0;36mtryit\u001b[0;34m(sent)\u001b[0m\n\u001b[1;32m      2\u001b[0m   \u001b[0;34m\"\"\"wrapper function to test the model\"\"\"\u001b[0m\u001b[0;34m\u001b[0m\u001b[0;34m\u001b[0m\u001b[0m\n\u001b[1;32m      3\u001b[0m \u001b[0;34m\u001b[0m\u001b[0m\n\u001b[0;32m----> 4\u001b[0;31m   \u001b[0msent\u001b[0m \u001b[0;34m=\u001b[0m \u001b[0mcleaner\u001b[0m\u001b[0;34m(\u001b[0m\u001b[0msent\u001b[0m\u001b[0;34m,\u001b[0m \u001b[0mremove_stopwords\u001b[0m\u001b[0;34m=\u001b[0m\u001b[0;32mTrue\u001b[0m\u001b[0;34m)\u001b[0m\u001b[0;34m\u001b[0m\u001b[0;34m\u001b[0m\u001b[0m\n\u001b[0m\u001b[1;32m      5\u001b[0m   \u001b[0;32mif\u001b[0m \u001b[0mlen\u001b[0m\u001b[0;34m(\u001b[0m\u001b[0msent\u001b[0m\u001b[0;34m.\u001b[0m\u001b[0msplit\u001b[0m\u001b[0;34m(\u001b[0m\u001b[0;34m)\u001b[0m\u001b[0;34m)\u001b[0m \u001b[0;34m>\u001b[0m \u001b[0m_MAX_TEXT_LEN\u001b[0m\u001b[0;34m:\u001b[0m\u001b[0;34m\u001b[0m\u001b[0;34m\u001b[0m\u001b[0m\n\u001b[1;32m      6\u001b[0m     \u001b[0;32mreturn\u001b[0m \u001b[0;34m\"make your sentence length less than {} words\"\u001b[0m\u001b[0;34m.\u001b[0m\u001b[0mformat\u001b[0m\u001b[0;34m(\u001b[0m\u001b[0m_MAX_TEXT_LEN\u001b[0m\u001b[0;34m)\u001b[0m\u001b[0;34m\u001b[0m\u001b[0;34m\u001b[0m\u001b[0m\n",
            "\u001b[0;31mNameError\u001b[0m: name 'cleaner' is not defined"
          ]
        }
      ],
      "source": [
        "tryit(text)"
      ]
    },
    {
      "cell_type": "code",
      "execution_count": null,
      "metadata": {
        "colab": {
          "base_uri": "https://localhost:8080/",
          "height": 356
        },
        "id": "VK4C14f5l5wF",
        "outputId": "709e605e-845b-48b9-8594-41915a1f9529"
      },
      "outputs": [
        {
          "output_type": "stream",
          "name": "stdout",
          "text": [
            "text : We tried the Megna for the first time last night and the food was great, freshly cooked very tasty and well presented\n"
          ]
        },
        {
          "output_type": "error",
          "ename": "NameError",
          "evalue": "ignored",
          "traceback": [
            "\u001b[0;31m---------------------------------------------------------------------------\u001b[0m",
            "\u001b[0;31mNameError\u001b[0m                                 Traceback (most recent call last)",
            "\u001b[0;32m<ipython-input-33-4713c3547843>\u001b[0m in \u001b[0;36m<module>\u001b[0;34m()\u001b[0m\n\u001b[1;32m      4\u001b[0m   \u001b[0;32mif\u001b[0m \u001b[0mlen\u001b[0m\u001b[0;34m(\u001b[0m\u001b[0ml\u001b[0m\u001b[0;34m)\u001b[0m \u001b[0;34m>\u001b[0m \u001b[0;36m0\u001b[0m\u001b[0;34m:\u001b[0m\u001b[0;34m\u001b[0m\u001b[0;34m\u001b[0m\u001b[0m\n\u001b[1;32m      5\u001b[0m     \u001b[0mprint\u001b[0m\u001b[0;34m(\u001b[0m\u001b[0;34m'text :'\u001b[0m\u001b[0;34m,\u001b[0m \u001b[0ml\u001b[0m\u001b[0;34m.\u001b[0m\u001b[0mstrip\u001b[0m\u001b[0;34m(\u001b[0m\u001b[0;34m)\u001b[0m\u001b[0;34m)\u001b[0m\u001b[0;34m\u001b[0m\u001b[0;34m\u001b[0m\u001b[0m\n\u001b[0;32m----> 6\u001b[0;31m     \u001b[0mprint\u001b[0m\u001b[0;34m(\u001b[0m\u001b[0;34m'predict:'\u001b[0m\u001b[0;34m,\u001b[0m \u001b[0mtryit\u001b[0m\u001b[0;34m(\u001b[0m\u001b[0ml\u001b[0m\u001b[0;34m)\u001b[0m\u001b[0;34m)\u001b[0m\u001b[0;34m\u001b[0m\u001b[0;34m\u001b[0m\u001b[0m\n\u001b[0m\u001b[1;32m      7\u001b[0m     \u001b[0mprint\u001b[0m\u001b[0;34m(\u001b[0m\u001b[0;34m'\\n'\u001b[0m\u001b[0;34m)\u001b[0m\u001b[0;34m\u001b[0m\u001b[0;34m\u001b[0m\u001b[0m\n",
            "\u001b[0;32m<ipython-input-30-70a3393b36cc>\u001b[0m in \u001b[0;36mtryit\u001b[0;34m(sent)\u001b[0m\n\u001b[1;32m      2\u001b[0m   \u001b[0;34m\"\"\"wrapper function to test the model\"\"\"\u001b[0m\u001b[0;34m\u001b[0m\u001b[0;34m\u001b[0m\u001b[0m\n\u001b[1;32m      3\u001b[0m \u001b[0;34m\u001b[0m\u001b[0m\n\u001b[0;32m----> 4\u001b[0;31m   \u001b[0msent\u001b[0m \u001b[0;34m=\u001b[0m \u001b[0mcleaner\u001b[0m\u001b[0;34m(\u001b[0m\u001b[0msent\u001b[0m\u001b[0;34m,\u001b[0m \u001b[0mremove_stopwords\u001b[0m\u001b[0;34m=\u001b[0m\u001b[0;32mTrue\u001b[0m\u001b[0;34m)\u001b[0m\u001b[0;34m\u001b[0m\u001b[0;34m\u001b[0m\u001b[0m\n\u001b[0m\u001b[1;32m      5\u001b[0m   \u001b[0;32mif\u001b[0m \u001b[0mlen\u001b[0m\u001b[0;34m(\u001b[0m\u001b[0msent\u001b[0m\u001b[0;34m.\u001b[0m\u001b[0msplit\u001b[0m\u001b[0;34m(\u001b[0m\u001b[0;34m)\u001b[0m\u001b[0;34m)\u001b[0m \u001b[0;34m>\u001b[0m \u001b[0m_MAX_TEXT_LEN\u001b[0m\u001b[0;34m:\u001b[0m\u001b[0;34m\u001b[0m\u001b[0;34m\u001b[0m\u001b[0m\n\u001b[1;32m      6\u001b[0m     \u001b[0;32mreturn\u001b[0m \u001b[0;34m\"make your sentence length less than {} words\"\u001b[0m\u001b[0;34m.\u001b[0m\u001b[0mformat\u001b[0m\u001b[0;34m(\u001b[0m\u001b[0m_MAX_TEXT_LEN\u001b[0m\u001b[0;34m)\u001b[0m\u001b[0;34m\u001b[0m\u001b[0;34m\u001b[0m\u001b[0m\n",
            "\u001b[0;31mNameError\u001b[0m: name 'cleaner' is not defined"
          ]
        }
      ],
      "source": [
        "\n",
        "text1 = text.split('.')\n",
        "for l in text1:\n",
        "  if len(l) > 0:\n",
        "    print('text :', l.strip())\n",
        "    print('predict:', tryit(l))\n",
        "    print('\\n')"
      ]
    },
    {
      "cell_type": "code",
      "execution_count": null,
      "metadata": {
        "colab": {
          "background_save": true
        },
        "id": "cNDNromZmDoi",
        "outputId": "319cb055-2b46-404f-d202-229a59bf4fc8"
      },
      "outputs": [
        {
          "data": {
            "application/vnd.google.colaboratory.intrinsic+json": {
              "type": "string"
            },
            "text/plain": [
              "'what are the treatments for low pain '"
            ]
          },
          "execution_count": null,
          "metadata": {},
          "output_type": "execute_result"
        }
      ],
      "source": [
        "tryit('the food was terribly good')"
      ]
    },
    {
      "cell_type": "code",
      "execution_count": null,
      "metadata": {
        "colab": {
          "background_save": true
        },
        "id": "mwj3VpU1mHUP",
        "outputId": "edf1dd45-9632-405d-b14b-123a48fa0cb4"
      },
      "outputs": [
        {
          "data": {
            "application/vnd.google.colaboratory.intrinsic+json": {
              "type": "string"
            },
            "text/plain": [
              "'what are the treatments for low pain '"
            ]
          },
          "execution_count": null,
          "metadata": {},
          "output_type": "execute_result"
        }
      ],
      "source": [
        "tryit('the food was terrible')"
      ]
    },
    {
      "cell_type": "code",
      "execution_count": null,
      "metadata": {
        "colab": {
          "background_save": true
        },
        "id": "UXdS7m5lmLtH",
        "outputId": "4770f070-6b87-4fcc-fa98-f8cb7794b2ee"
      },
      "outputs": [
        {
          "data": {
            "application/vnd.google.colaboratory.intrinsic+json": {
              "type": "string"
            },
            "text/plain": [
              "'what are the treatments for low pain '"
            ]
          },
          "execution_count": null,
          "metadata": {},
          "output_type": "execute_result"
        }
      ],
      "source": [
        "tryit('the food was bad at first but finally it turned out to be otherwise')"
      ]
    },
    {
      "cell_type": "code",
      "execution_count": null,
      "metadata": {
        "colab": {
          "background_save": true
        },
        "id": "K9nYIucGmOqj",
        "outputId": "0130432c-7955-4f3a-b1c6-14344e401525"
      },
      "outputs": [
        {
          "data": {
            "application/vnd.google.colaboratory.intrinsic+json": {
              "type": "string"
            },
            "text/plain": [
              "'what are the treatments for leg for pain '"
            ]
          },
          "execution_count": null,
          "metadata": {},
          "output_type": "execute_result"
        }
      ],
      "source": [
        "tryit('I love maggi but couldn\\'t find any')"
      ]
    },
    {
      "cell_type": "code",
      "execution_count": null,
      "metadata": {
        "colab": {
          "background_save": true
        },
        "id": "5G12gUErmTSU",
        "outputId": "6d53c14a-c4af-4ff9-cf67-9018d81c2d79"
      },
      "outputs": [
        {
          "data": {
            "application/vnd.google.colaboratory.intrinsic+json": {
              "type": "string"
            },
            "text/plain": [
              "'what are the treatments for low pain '"
            ]
          },
          "execution_count": null,
          "metadata": {},
          "output_type": "execute_result"
        }
      ],
      "source": [
        "\n",
        "tryit('well the food was not that bad but certainly can be improved')"
      ]
    },
    {
      "cell_type": "code",
      "execution_count": null,
      "metadata": {
        "id": "rjGvpvhBLEHK"
      },
      "outputs": [],
      "source": [
        "# storing all the rouge scores\n",
        "rouge_1 = {'f':[], 'p':[], 'r':[]}\n",
        "rouge_2 = {'f':[], 'p':[], 'r':[]}\n",
        "rouge_l = {'f':[], 'p':[], 'r':[]}"
      ]
    },
    {
      "cell_type": "code",
      "execution_count": null,
      "metadata": {
        "id": "ykdFefCUGZfA"
      },
      "outputs": [],
      "source": [
        "for i in range(df.shape[0]):\n",
        "  text = df['text'][i]\n",
        "  reference = ' '.join(df['summary'][i].split()[1:-1])\n",
        "  if len(reference) == 0:\n",
        "    continue\n",
        "  hypothesis = model1.summarize(text)\n",
        "  scores = scorer.get_scores(hypothesis, reference)[0]\n",
        "  one, two, l = scores['rouge-1'], scores['rouge-2'], scores['rouge-l']\n",
        "  for p, q in one.items():\n",
        "    rouge_1[p].append(q)\n",
        "  for p, q in two.items():\n",
        "    rouge_2[p].append(q)\n",
        "  for p, q in l.items():\n",
        "    rouge_l[p].append(q)"
      ]
    },
    {
      "cell_type": "code",
      "execution_count": null,
      "metadata": {
        "colab": {
          "background_save": true
        },
        "id": "yHeX1wCFGgK8"
      },
      "outputs": [],
      "source": [
        "\n",
        "np.mean(rouge_1['f']), np.mean(rouge_1['p']), np.mean(rouge_1['r'])"
      ]
    },
    {
      "cell_type": "code",
      "execution_count": null,
      "metadata": {
        "colab": {
          "background_save": true
        },
        "id": "V0vUs3EQLIRS"
      },
      "outputs": [],
      "source": [
        "np.mean(rouge_2['f']), np.mean(rouge_2['p']), np.mean(rouge_2['r'])"
      ]
    },
    {
      "cell_type": "code",
      "execution_count": null,
      "metadata": {
        "colab": {
          "background_save": true
        },
        "id": "kU4tHiD_LLyO"
      },
      "outputs": [],
      "source": [
        "np.mean(rouge_l['f']), np.mean(rouge_l['p']), np.mean(rouge_l['r'])"
      ]
    },
    {
      "cell_type": "code",
      "execution_count": null,
      "metadata": {
        "id": "Dvw-VCAiLMTA"
      },
      "outputs": [],
      "source": [
        "arr1=list()\n",
        "arr1.append([\"Rouge 1\",np.mean(rouge_1['f']), np.mean(rouge_1['p']), np.mean(rouge_1['r'])])\n",
        "arr1.append([\"Rouge 2\",np.mean(rouge_2['f']), np.mean(rouge_2['p']), np.mean(rouge_2['r'])])\n",
        "arr1.append([\"Rouge l\",np.mean(rouge_l['f']), np.mean(rouge_l['p']), np.mean(rouge_l['r'])])"
      ]
    },
    {
      "cell_type": "code",
      "execution_count": null,
      "metadata": {
        "id": "iChtvSY-oM21"
      },
      "outputs": [],
      "source": [
        "Rouge=[\"Rouge 1\",\"Rouge 2\",\"Rouge l\"]"
      ]
    },
    {
      "cell_type": "code",
      "execution_count": null,
      "metadata": {
        "colab": {
          "background_save": true
        },
        "id": "65WBIrPwp2Zs"
      },
      "outputs": [],
      "source": [
        "arr1"
      ]
    },
    {
      "cell_type": "code",
      "execution_count": null,
      "metadata": {
        "id": "xMYeGAnJo0Ew"
      },
      "outputs": [],
      "source": [
        "df_final=pd.DataFrame(arr1,columns=[\"Rouge\",\"f\",\"p\",\"r\"],)"
      ]
    },
    {
      "cell_type": "code",
      "execution_count": null,
      "metadata": {
        "id": "_LtP5h9vpTuO",
        "colab": {
          "base_uri": "https://localhost:8080/",
          "height": 171
        },
        "outputId": "b84924b2-eeb4-4c31-9459-cc220af65b3d"
      },
      "outputs": [
        {
          "output_type": "execute_result",
          "data": {
            "text/plain": [
              "     Rouge         f         p         r\n",
              "0  Rouge 1  0.286363  0.318718  0.270756\n",
              "1  Rouge 2  0.175830  0.192542  0.170154\n",
              "2  Rouge l  0.282116  0.313592  0.266924"
            ],
            "text/html": [
              "\n",
              "  <div id=\"df-d2036ed5-922a-493e-824b-af2c906d42cb\">\n",
              "    <div class=\"colab-df-container\">\n",
              "      <div>\n",
              "<style scoped>\n",
              "    .dataframe tbody tr th:only-of-type {\n",
              "        vertical-align: middle;\n",
              "    }\n",
              "\n",
              "    .dataframe tbody tr th {\n",
              "        vertical-align: top;\n",
              "    }\n",
              "\n",
              "    .dataframe thead th {\n",
              "        text-align: right;\n",
              "    }\n",
              "</style>\n",
              "<table border=\"1\" class=\"dataframe\">\n",
              "  <thead>\n",
              "    <tr style=\"text-align: right;\">\n",
              "      <th></th>\n",
              "      <th>Rouge</th>\n",
              "      <th>f</th>\n",
              "      <th>p</th>\n",
              "      <th>r</th>\n",
              "    </tr>\n",
              "  </thead>\n",
              "  <tbody>\n",
              "    <tr>\n",
              "      <th>0</th>\n",
              "      <td>Rouge 1</td>\n",
              "      <td>0.286363</td>\n",
              "      <td>0.318718</td>\n",
              "      <td>0.270756</td>\n",
              "    </tr>\n",
              "    <tr>\n",
              "      <th>1</th>\n",
              "      <td>Rouge 2</td>\n",
              "      <td>0.175830</td>\n",
              "      <td>0.192542</td>\n",
              "      <td>0.170154</td>\n",
              "    </tr>\n",
              "    <tr>\n",
              "      <th>2</th>\n",
              "      <td>Rouge l</td>\n",
              "      <td>0.282116</td>\n",
              "      <td>0.313592</td>\n",
              "      <td>0.266924</td>\n",
              "    </tr>\n",
              "  </tbody>\n",
              "</table>\n",
              "</div>\n",
              "      <button class=\"colab-df-convert\" onclick=\"convertToInteractive('df-d2036ed5-922a-493e-824b-af2c906d42cb')\"\n",
              "              title=\"Convert this dataframe to an interactive table.\"\n",
              "              style=\"display:none;\">\n",
              "        \n",
              "  <svg xmlns=\"http://www.w3.org/2000/svg\" height=\"24px\"viewBox=\"0 0 24 24\"\n",
              "       width=\"24px\">\n",
              "    <path d=\"M0 0h24v24H0V0z\" fill=\"none\"/>\n",
              "    <path d=\"M18.56 5.44l.94 2.06.94-2.06 2.06-.94-2.06-.94-.94-2.06-.94 2.06-2.06.94zm-11 1L8.5 8.5l.94-2.06 2.06-.94-2.06-.94L8.5 2.5l-.94 2.06-2.06.94zm10 10l.94 2.06.94-2.06 2.06-.94-2.06-.94-.94-2.06-.94 2.06-2.06.94z\"/><path d=\"M17.41 7.96l-1.37-1.37c-.4-.4-.92-.59-1.43-.59-.52 0-1.04.2-1.43.59L10.3 9.45l-7.72 7.72c-.78.78-.78 2.05 0 2.83L4 21.41c.39.39.9.59 1.41.59.51 0 1.02-.2 1.41-.59l7.78-7.78 2.81-2.81c.8-.78.8-2.07 0-2.86zM5.41 20L4 18.59l7.72-7.72 1.47 1.35L5.41 20z\"/>\n",
              "  </svg>\n",
              "      </button>\n",
              "      \n",
              "  <style>\n",
              "    .colab-df-container {\n",
              "      display:flex;\n",
              "      flex-wrap:wrap;\n",
              "      gap: 12px;\n",
              "    }\n",
              "\n",
              "    .colab-df-convert {\n",
              "      background-color: #E8F0FE;\n",
              "      border: none;\n",
              "      border-radius: 50%;\n",
              "      cursor: pointer;\n",
              "      display: none;\n",
              "      fill: #1967D2;\n",
              "      height: 32px;\n",
              "      padding: 0 0 0 0;\n",
              "      width: 32px;\n",
              "    }\n",
              "\n",
              "    .colab-df-convert:hover {\n",
              "      background-color: #E2EBFA;\n",
              "      box-shadow: 0px 1px 2px rgba(60, 64, 67, 0.3), 0px 1px 3px 1px rgba(60, 64, 67, 0.15);\n",
              "      fill: #174EA6;\n",
              "    }\n",
              "\n",
              "    [theme=dark] .colab-df-convert {\n",
              "      background-color: #3B4455;\n",
              "      fill: #D2E3FC;\n",
              "    }\n",
              "\n",
              "    [theme=dark] .colab-df-convert:hover {\n",
              "      background-color: #434B5C;\n",
              "      box-shadow: 0px 1px 3px 1px rgba(0, 0, 0, 0.15);\n",
              "      filter: drop-shadow(0px 1px 2px rgba(0, 0, 0, 0.3));\n",
              "      fill: #FFFFFF;\n",
              "    }\n",
              "  </style>\n",
              "\n",
              "      <script>\n",
              "        const buttonEl =\n",
              "          document.querySelector('#df-d2036ed5-922a-493e-824b-af2c906d42cb button.colab-df-convert');\n",
              "        buttonEl.style.display =\n",
              "          google.colab.kernel.accessAllowed ? 'block' : 'none';\n",
              "\n",
              "        async function convertToInteractive(key) {\n",
              "          const element = document.querySelector('#df-d2036ed5-922a-493e-824b-af2c906d42cb');\n",
              "          const dataTable =\n",
              "            await google.colab.kernel.invokeFunction('convertToInteractive',\n",
              "                                                     [key], {});\n",
              "          if (!dataTable) return;\n",
              "\n",
              "          const docLinkHtml = 'Like what you see? Visit the ' +\n",
              "            '<a target=\"_blank\" href=https://colab.research.google.com/notebooks/data_table.ipynb>data table notebook</a>'\n",
              "            + ' to learn more about interactive tables.';\n",
              "          element.innerHTML = '';\n",
              "          dataTable['output_type'] = 'display_data';\n",
              "          await google.colab.output.renderOutput(dataTable, element);\n",
              "          const docLink = document.createElement('div');\n",
              "          docLink.innerHTML = docLinkHtml;\n",
              "          element.appendChild(docLink);\n",
              "        }\n",
              "      </script>\n",
              "    </div>\n",
              "  </div>\n",
              "  "
            ]
          },
          "metadata": {},
          "execution_count": 36
        }
      ],
      "source": [
        "df_final"
      ]
    },
    {
      "cell_type": "code",
      "execution_count": null,
      "metadata": {
        "id": "xQlCSA-mpUu0"
      },
      "outputs": [],
      "source": [
        ""
      ]
    }
  ],
  "metadata": {
    "accelerator": "GPU",
    "colab": {
      "name": "bilstm.ipynb",
      "provenance": [],
      "collapsed_sections": [],
      "include_colab_link": true
    },
    "kernelspec": {
      "display_name": "Python 3",
      "language": "python",
      "name": "python3"
    },
    "language_info": {
      "codemirror_mode": {
        "name": "ipython",
        "version": 3
      },
      "file_extension": ".py",
      "mimetype": "text/x-python",
      "name": "python",
      "nbconvert_exporter": "python",
      "pygments_lexer": "ipython3",
      "version": "3.6.4"
    }
  },
  "nbformat": 4,
  "nbformat_minor": 0
}